{
 "cells": [
  {
   "cell_type": "code",
   "execution_count": 6,
   "metadata": {},
   "outputs": [
    {
     "data": {
      "text/plain": [
       "['Sample_ORU.txt',\n",
       " '.DS_Store',\n",
       " 'requirements.txt',\n",
       " 'Archive',\n",
       " 'Vituity RCM EDI Coding Assessment.pdf',\n",
       " 'README.md',\n",
       " 'scripts',\n",
       " 'ADT_sample.txt',\n",
       " 'notebook',\n",
       " '.git',\n",
       " 'sampledata.csv']"
      ]
     },
     "execution_count": 6,
     "metadata": {},
     "output_type": "execute_result"
    }
   ],
   "source": [
    "import os\n",
    "import pandas as pd\n",
    "import sqlite3\n",
    "import datetime as dt\n",
    "today = dt.date.today().strftime(\"%d_%m_%Y\")\n",
    "os.listdir()"
   ]
  },
  {
   "cell_type": "code",
   "execution_count": 9,
   "metadata": {},
   "outputs": [],
   "source": [
    "# Set the base directory\n",
    "base_dir = './Archive/Modified/'\n",
    "# List all files in the base directory\n",
    "file_dir = os.listdir(base_dir)\n",
    "\n",
    "# Filter for ADT CSV files\n",
    "adt_csv = [f for f in file_dir if f.endswith('.csv') and 'ADT' in f]\n",
    "\n",
    "if adt_csv:\n",
    "    adt_csv_file = os.path.join(base_dir, adt_csv[0])  # Combine base directory with filename\n",
    "    df = pd.read_csv(adt_csv_file)\n",
    "\n",
    "    bonus_dir = './Archive/Bonus/'\n",
    "    os.mkdir(bonus_dir)\n",
    "\n",
    "    # Connect to the SQLite database (this will create a new database if it doesn't exist)\n",
    "    conn = sqlite3.connect(os.path.join(bonus_dir, 'ADT.db'))\n",
    "\n",
    "    # Write the DataFrame to the SQLite database\n",
    "    df.to_sql('table_name', conn, if_exists='replace', index=False)\n",
    "\n",
    "    # Close the connection\n",
    "    conn.close()"
   ]
  }
 ],
 "metadata": {
  "kernelspec": {
   "display_name": "ryan_env",
   "language": "python",
   "name": "python3"
  },
  "language_info": {
   "codemirror_mode": {
    "name": "ipython",
    "version": 3
   },
   "file_extension": ".py",
   "mimetype": "text/x-python",
   "name": "python",
   "nbconvert_exporter": "python",
   "pygments_lexer": "ipython3",
   "version": "3.8.13"
  },
  "orig_nbformat": 4
 },
 "nbformat": 4,
 "nbformat_minor": 2
}
