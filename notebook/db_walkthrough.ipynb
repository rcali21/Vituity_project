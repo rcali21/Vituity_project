{
 "cells": [
  {
   "cell_type": "code",
   "execution_count": 1,
   "metadata": {},
   "outputs": [],
   "source": [
    "import os\n",
    "import pandas as pd\n",
    "import sqlite3\n",
    "import datetime as dt\n",
    "today = dt.date.today().strftime(\"%d_%m_%Y\")"
   ]
  },
  {
   "cell_type": "code",
   "execution_count": 2,
   "metadata": {},
   "outputs": [],
   "source": [
    "# Set the base directory\n",
    "base_dir = '../Archive/Modified/'\n",
    "# List all files in the base directory\n",
    "file_dir = os.listdir(base_dir)\n",
    "\n",
    "# Filter for ADT CSV files\n",
    "adt_csv = [f for f in file_dir if f.endswith('.csv') and 'ADT' in f]\n",
    "\n",
    "if adt_csv:\n",
    "    adt_csv_file = os.path.join(base_dir, adt_csv[0])  # Combine base directory with filename\n",
    "    df = pd.read_csv(adt_csv_file)\n",
    "\n",
    "    bonus_dir = '../Archive/Bonus/'\n",
    "    os.mkdir(bonus_dir)\n",
    "\n",
    "    # Connect to the SQLite database (this will create a new database if it doesn't exist)\n",
    "    conn = sqlite3.connect(os.path.join(bonus_dir, 'ADT.db'))\n",
    "\n",
    "    # Write the DataFrame to the SQLite database\n",
    "    df.to_sql('ADT_table', conn, if_exists='replace', index=False)\n",
    "\n",
    "\n",
    "\n"
   ]
  },
  {
   "cell_type": "code",
   "execution_count": 3,
   "metadata": {},
   "outputs": [
    {
     "data": {
      "text/plain": [
       "0     M\n",
       "1     M\n",
       "2     M\n",
       "3     M\n",
       "4     M\n",
       "     ..\n",
       "87    M\n",
       "88    M\n",
       "89    M\n",
       "90    M\n",
       "91    M\n",
       "Name: patient_sex, Length: 92, dtype: object"
      ]
     },
     "execution_count": 3,
     "metadata": {},
     "output_type": "execute_result"
    }
   ],
   "source": [
    "# Query for patients with sex = M\n",
    "query = \"SELECT * FROM ADT_table WHERE patient_sex = 'M'\"\n",
    "df = pd.read_sql_query(query, conn)\n",
    "df['patient_sex']"
   ]
  },
  {
   "cell_type": "code",
   "execution_count": 4,
   "metadata": {},
   "outputs": [],
   "source": [
    "conn.close()"
   ]
  }
 ],
 "metadata": {
  "kernelspec": {
   "display_name": "ryan_env",
   "language": "python",
   "name": "python3"
  },
  "language_info": {
   "codemirror_mode": {
    "name": "ipython",
    "version": 3
   },
   "file_extension": ".py",
   "mimetype": "text/x-python",
   "name": "python",
   "nbconvert_exporter": "python",
   "pygments_lexer": "ipython3",
   "version": "3.8.13"
  },
  "orig_nbformat": 4
 },
 "nbformat": 4,
 "nbformat_minor": 2
}
